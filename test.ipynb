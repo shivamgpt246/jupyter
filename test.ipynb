{
    "cells": [
        {
            "cell_type": "markdown",
            "metadata": {
                "collapsed": true
            },
            "source": ""
        },
        {
            "cell_type": "code",
            "execution_count": 1,
            "metadata": {},
            "outputs": [
                {
                    "data": {
                        "text/html": "<div>\n<style scoped>\n    .dataframe tbody tr th:only-of-type {\n        vertical-align: middle;\n    }\n\n    .dataframe tbody tr th {\n        vertical-align: top;\n    }\n\n    .dataframe thead th {\n        text-align: right;\n    }\n</style>\n<table border=\"1\" class=\"dataframe\">\n  <thead>\n    <tr style=\"text-align: right;\">\n      <th></th>\n      <th>HHID</th>\n      <th>TIME</th>\n      <th>PASTA</th>\n      <th>EXPOS</th>\n      <th>AGE</th>\n      <th>INCOME</th>\n      <th>AREA</th>\n    </tr>\n  </thead>\n  <tbody>\n    <tr>\n      <th>0</th>\n      <td>1</td>\n      <td>1</td>\n      <td>0.939444</td>\n      <td>1</td>\n      <td>61.710758</td>\n      <td>25186.798772</td>\n      <td>3</td>\n    </tr>\n    <tr>\n      <th>1</th>\n      <td>1</td>\n      <td>2</td>\n      <td>2.560969</td>\n      <td>2</td>\n      <td>61.710758</td>\n      <td>25186.798772</td>\n      <td>3</td>\n    </tr>\n    <tr>\n      <th>2</th>\n      <td>1</td>\n      <td>3</td>\n      <td>0.901123</td>\n      <td>0</td>\n      <td>61.710758</td>\n      <td>25186.798772</td>\n      <td>3</td>\n    </tr>\n    <tr>\n      <th>3</th>\n      <td>1</td>\n      <td>4</td>\n      <td>1.916530</td>\n      <td>1</td>\n      <td>61.710758</td>\n      <td>25186.798772</td>\n      <td>3</td>\n    </tr>\n    <tr>\n      <th>4</th>\n      <td>1</td>\n      <td>5</td>\n      <td>1.548751</td>\n      <td>0</td>\n      <td>61.710758</td>\n      <td>25186.798772</td>\n      <td>3</td>\n    </tr>\n  </tbody>\n</table>\n</div>",
                        "text/plain": "   HHID  TIME     PASTA  EXPOS        AGE        INCOME  AREA\n0     1     1  0.939444      1  61.710758  25186.798772     3\n1     1     2  2.560969      2  61.710758  25186.798772     3\n2     1     3  0.901123      0  61.710758  25186.798772     3\n3     1     4  1.916530      1  61.710758  25186.798772     3\n4     1     5  1.548751      0  61.710758  25186.798772     3"
                    },
                    "execution_count": 1,
                    "metadata": {},
                    "output_type": "execute_result"
                }
            ],
            "source": "# The code was removed by Watson Studio for sharing."
        },
        {
            "cell_type": "code",
            "execution_count": null,
            "metadata": {},
            "outputs": [],
            "source": ""
        }
    ],
    "metadata": {
        "kernelspec": {
            "display_name": "Python 3.6",
            "language": "python",
            "name": "python3"
        },
        "language_info": {
            "codemirror_mode": {
                "name": "ipython",
                "version": 3
            },
            "file_extension": ".py",
            "mimetype": "text/x-python",
            "name": "python",
            "nbconvert_exporter": "python",
            "pygments_lexer": "ipython3",
            "version": "3.6.9"
        }
    },
    "nbformat": 4,
    "nbformat_minor": 1
}